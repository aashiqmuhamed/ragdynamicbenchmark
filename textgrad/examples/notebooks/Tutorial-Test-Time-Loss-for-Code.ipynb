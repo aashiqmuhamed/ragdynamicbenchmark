{
 "cells": [
  {
   "cell_type": "markdown",
   "id": "fecb2fb5-b87f-4428-8175-e3a46fe77371",
   "metadata": {},
   "source": [
    "## Tutorial: Defining a new test-time loss and optimizing code.\n",
    "\n",
    "![TextGrad](https://github.com/vinid/data/blob/master/logo_full.png?raw=true)\n",
    "\n",
    "An autograd engine -- for textual gradients!\n",
    "\n",
    "[![Open In Colab](https://colab.research.google.com/assets/colab-badge.svg)](https://colab.research.google.com/github/zou-group/TextGrad/blob/main/examples/notebooks/Prompt-Optimization.ipynb)\n",
    "[![GitHub license](https://img.shields.io/badge/License-MIT-blue.svg)](https://lbesson.mit-license.org/)\n",
    "[![Arxiv](https://img.shields.io/badge/arXiv-2406.07496-B31B1B.svg)](https://arxiv.org/abs/2406.07496)\n",
    "[![Documentation Status](https://readthedocs.org/projects/textgrad/badge/?version=latest)](https://textgrad.readthedocs.io/en/latest/?badge=latest)\n",
    "[![PyPI - Python Version](https://img.shields.io/pypi/pyversions/textgrad)](https://pypi.org/project/textgrad/)\n",
    "[![PyPI](https://img.shields.io/pypi/v/textgrad)](https://pypi.org/project/textgrad/)\n",
    "\n",
    "**Objectives:**\n",
    "\n",
    "* In this tutorial, we will do a quick walkthrough around how to define a simple test time loss in TextGrad and optimize a variable of interest.\n",
    "\n",
    "**Requirements:**\n",
    "\n",
    "* You need to have an OpenAI API key to run this tutorial. This should be set as an environment variable as OPENAI_API_KEY.\n",
    "\n",
    "We first define some utilities and a set of test cases."
   ]
  },
  {
   "cell_type": "code",
   "execution_count": 1,
   "id": "7add4547-4278-411b-a827-79be521851f1",
   "metadata": {
    "scrolled": true
   },
   "outputs": [
    {
     "name": "stdout",
     "output_type": "stream",
     "text": [
      "Requirement already satisfied: textgrad in /data/group_data/r3lit_shared/ragdynabench/textgrad/env/lib/python3.11/site-packages (0.1.6)\n",
      "Requirement already satisfied: openai>=1.23.6 in /data/group_data/r3lit_shared/ragdynabench/textgrad/env/lib/python3.11/site-packages (from textgrad) (1.59.7)\n",
      "Requirement already satisfied: tenacity>=8.2.3 in /data/group_data/r3lit_shared/ragdynabench/textgrad/env/lib/python3.11/site-packages (from textgrad) (9.0.0)\n",
      "Requirement already satisfied: python-dotenv>=1.0.0 in /data/group_data/r3lit_shared/ragdynabench/textgrad/env/lib/python3.11/site-packages (from textgrad) (1.0.1)\n",
      "Requirement already satisfied: pandas>=1.5.3 in /data/group_data/r3lit_shared/ragdynabench/textgrad/env/lib/python3.11/site-packages (from textgrad) (2.2.3)\n",
      "Requirement already satisfied: platformdirs>=3.11.0 in /data/group_data/r3lit_shared/ragdynabench/textgrad/env/lib/python3.11/site-packages (from textgrad) (4.3.6)\n",
      "Requirement already satisfied: datasets>=2.14.6 in /data/group_data/r3lit_shared/ragdynabench/textgrad/env/lib/python3.11/site-packages (from textgrad) (3.2.0)\n",
      "Requirement already satisfied: diskcache>=5.6.3 in /data/group_data/r3lit_shared/ragdynabench/textgrad/env/lib/python3.11/site-packages (from textgrad) (5.6.3)\n",
      "Requirement already satisfied: graphviz>=0.20.3 in /data/group_data/r3lit_shared/ragdynabench/textgrad/env/lib/python3.11/site-packages (from textgrad) (0.20.3)\n",
      "Requirement already satisfied: gdown>=5.2.0 in /data/group_data/r3lit_shared/ragdynabench/textgrad/env/lib/python3.11/site-packages (from textgrad) (5.2.0)\n",
      "Requirement already satisfied: litellm>=1.49.5 in /data/group_data/r3lit_shared/ragdynabench/textgrad/env/lib/python3.11/site-packages (from textgrad) (1.58.2)\n",
      "Requirement already satisfied: pillow in /data/group_data/r3lit_shared/ragdynabench/textgrad/env/lib/python3.11/site-packages (from textgrad) (11.1.0)\n",
      "Requirement already satisfied: httpx in /data/group_data/r3lit_shared/ragdynabench/textgrad/env/lib/python3.11/site-packages (from textgrad) (0.27.2)\n",
      "Requirement already satisfied: filelock in /data/group_data/r3lit_shared/ragdynabench/textgrad/env/lib/python3.11/site-packages (from datasets>=2.14.6->textgrad) (3.16.1)\n",
      "Requirement already satisfied: numpy>=1.17 in /data/group_data/r3lit_shared/ragdynabench/textgrad/env/lib/python3.11/site-packages (from datasets>=2.14.6->textgrad) (1.26.4)\n",
      "Requirement already satisfied: pyarrow>=15.0.0 in /data/group_data/r3lit_shared/ragdynabench/textgrad/env/lib/python3.11/site-packages (from datasets>=2.14.6->textgrad) (19.0.0)\n",
      "Requirement already satisfied: dill<0.3.9,>=0.3.0 in /data/group_data/r3lit_shared/ragdynabench/textgrad/env/lib/python3.11/site-packages (from datasets>=2.14.6->textgrad) (0.3.8)\n",
      "Requirement already satisfied: requests>=2.32.2 in /data/group_data/r3lit_shared/ragdynabench/textgrad/env/lib/python3.11/site-packages (from datasets>=2.14.6->textgrad) (2.32.3)\n",
      "Requirement already satisfied: tqdm>=4.66.3 in /data/group_data/r3lit_shared/ragdynabench/textgrad/env/lib/python3.11/site-packages (from datasets>=2.14.6->textgrad) (4.67.1)\n",
      "Requirement already satisfied: xxhash in /data/group_data/r3lit_shared/ragdynabench/textgrad/env/lib/python3.11/site-packages (from datasets>=2.14.6->textgrad) (3.5.0)\n",
      "Requirement already satisfied: multiprocess<0.70.17 in /data/group_data/r3lit_shared/ragdynabench/textgrad/env/lib/python3.11/site-packages (from datasets>=2.14.6->textgrad) (0.70.16)\n",
      "Requirement already satisfied: fsspec<=2024.9.0,>=2023.1.0 in /data/group_data/r3lit_shared/ragdynabench/textgrad/env/lib/python3.11/site-packages (from fsspec[http]<=2024.9.0,>=2023.1.0->datasets>=2.14.6->textgrad) (2024.9.0)\n",
      "Requirement already satisfied: aiohttp in /data/group_data/r3lit_shared/ragdynabench/textgrad/env/lib/python3.11/site-packages (from datasets>=2.14.6->textgrad) (3.11.11)\n",
      "Requirement already satisfied: huggingface-hub>=0.23.0 in /data/group_data/r3lit_shared/ragdynabench/textgrad/env/lib/python3.11/site-packages (from datasets>=2.14.6->textgrad) (0.27.1)\n",
      "Requirement already satisfied: packaging in /data/group_data/r3lit_shared/ragdynabench/textgrad/env/lib/python3.11/site-packages (from datasets>=2.14.6->textgrad) (24.2)\n",
      "Requirement already satisfied: pyyaml>=5.1 in /data/group_data/r3lit_shared/ragdynabench/textgrad/env/lib/python3.11/site-packages (from datasets>=2.14.6->textgrad) (6.0.2)\n",
      "Requirement already satisfied: beautifulsoup4 in /data/group_data/r3lit_shared/ragdynabench/textgrad/env/lib/python3.11/site-packages (from gdown>=5.2.0->textgrad) (4.12.3)\n",
      "Requirement already satisfied: click in /data/group_data/r3lit_shared/ragdynabench/textgrad/env/lib/python3.11/site-packages (from litellm>=1.49.5->textgrad) (8.1.8)\n",
      "Requirement already satisfied: importlib-metadata>=6.8.0 in /data/group_data/r3lit_shared/ragdynabench/textgrad/env/lib/python3.11/site-packages (from litellm>=1.49.5->textgrad) (8.5.0)\n",
      "Requirement already satisfied: jinja2<4.0.0,>=3.1.2 in /data/group_data/r3lit_shared/ragdynabench/textgrad/env/lib/python3.11/site-packages (from litellm>=1.49.5->textgrad) (3.1.5)\n",
      "Requirement already satisfied: jsonschema<5.0.0,>=4.22.0 in /data/group_data/r3lit_shared/ragdynabench/textgrad/env/lib/python3.11/site-packages (from litellm>=1.49.5->textgrad) (4.23.0)\n",
      "Requirement already satisfied: pydantic<3.0.0,>=2.0.0 in /data/group_data/r3lit_shared/ragdynabench/textgrad/env/lib/python3.11/site-packages (from litellm>=1.49.5->textgrad) (2.10.5)\n",
      "Requirement already satisfied: tiktoken>=0.7.0 in /data/group_data/r3lit_shared/ragdynabench/textgrad/env/lib/python3.11/site-packages (from litellm>=1.49.5->textgrad) (0.8.0)\n",
      "Requirement already satisfied: tokenizers in /data/group_data/r3lit_shared/ragdynabench/textgrad/env/lib/python3.11/site-packages (from litellm>=1.49.5->textgrad) (0.21.0)\n",
      "Requirement already satisfied: anyio in /data/group_data/r3lit_shared/ragdynabench/textgrad/env/lib/python3.11/site-packages (from httpx->textgrad) (4.8.0)\n",
      "Requirement already satisfied: certifi in /data/group_data/r3lit_shared/ragdynabench/textgrad/env/lib/python3.11/site-packages (from httpx->textgrad) (2024.12.14)\n",
      "Requirement already satisfied: httpcore==1.* in /data/group_data/r3lit_shared/ragdynabench/textgrad/env/lib/python3.11/site-packages (from httpx->textgrad) (1.0.7)\n",
      "Requirement already satisfied: idna in /data/group_data/r3lit_shared/ragdynabench/textgrad/env/lib/python3.11/site-packages (from httpx->textgrad) (3.10)\n",
      "Requirement already satisfied: sniffio in /data/group_data/r3lit_shared/ragdynabench/textgrad/env/lib/python3.11/site-packages (from httpx->textgrad) (1.3.1)\n",
      "Requirement already satisfied: h11<0.15,>=0.13 in /data/group_data/r3lit_shared/ragdynabench/textgrad/env/lib/python3.11/site-packages (from httpcore==1.*->httpx->textgrad) (0.14.0)\n",
      "Requirement already satisfied: distro<2,>=1.7.0 in /data/group_data/r3lit_shared/ragdynabench/textgrad/env/lib/python3.11/site-packages (from openai>=1.23.6->textgrad) (1.9.0)\n",
      "Requirement already satisfied: jiter<1,>=0.4.0 in /data/group_data/r3lit_shared/ragdynabench/textgrad/env/lib/python3.11/site-packages (from openai>=1.23.6->textgrad) (0.8.2)\n",
      "Requirement already satisfied: typing-extensions<5,>=4.11 in /data/group_data/r3lit_shared/ragdynabench/textgrad/env/lib/python3.11/site-packages (from openai>=1.23.6->textgrad) (4.12.2)\n",
      "Requirement already satisfied: python-dateutil>=2.8.2 in /data/group_data/r3lit_shared/ragdynabench/textgrad/env/lib/python3.11/site-packages (from pandas>=1.5.3->textgrad) (2.9.0.post0)\n",
      "Requirement already satisfied: pytz>=2020.1 in /data/group_data/r3lit_shared/ragdynabench/textgrad/env/lib/python3.11/site-packages (from pandas>=1.5.3->textgrad) (2024.2)\n",
      "Requirement already satisfied: tzdata>=2022.7 in /data/group_data/r3lit_shared/ragdynabench/textgrad/env/lib/python3.11/site-packages (from pandas>=1.5.3->textgrad) (2024.2)\n",
      "Requirement already satisfied: aiohappyeyeballs>=2.3.0 in /data/group_data/r3lit_shared/ragdynabench/textgrad/env/lib/python3.11/site-packages (from aiohttp->datasets>=2.14.6->textgrad) (2.4.4)\n",
      "Requirement already satisfied: aiosignal>=1.1.2 in /data/group_data/r3lit_shared/ragdynabench/textgrad/env/lib/python3.11/site-packages (from aiohttp->datasets>=2.14.6->textgrad) (1.3.2)\n",
      "Requirement already satisfied: attrs>=17.3.0 in /data/group_data/r3lit_shared/ragdynabench/textgrad/env/lib/python3.11/site-packages (from aiohttp->datasets>=2.14.6->textgrad) (24.3.0)\n",
      "Requirement already satisfied: frozenlist>=1.1.1 in /data/group_data/r3lit_shared/ragdynabench/textgrad/env/lib/python3.11/site-packages (from aiohttp->datasets>=2.14.6->textgrad) (1.5.0)\n",
      "Requirement already satisfied: multidict<7.0,>=4.5 in /data/group_data/r3lit_shared/ragdynabench/textgrad/env/lib/python3.11/site-packages (from aiohttp->datasets>=2.14.6->textgrad) (6.1.0)\n",
      "Requirement already satisfied: propcache>=0.2.0 in /data/group_data/r3lit_shared/ragdynabench/textgrad/env/lib/python3.11/site-packages (from aiohttp->datasets>=2.14.6->textgrad) (0.2.1)\n",
      "Requirement already satisfied: yarl<2.0,>=1.17.0 in /data/group_data/r3lit_shared/ragdynabench/textgrad/env/lib/python3.11/site-packages (from aiohttp->datasets>=2.14.6->textgrad) (1.18.3)\n",
      "Requirement already satisfied: zipp>=3.20 in /data/group_data/r3lit_shared/ragdynabench/textgrad/env/lib/python3.11/site-packages (from importlib-metadata>=6.8.0->litellm>=1.49.5->textgrad) (3.21.0)\n",
      "Requirement already satisfied: MarkupSafe>=2.0 in /data/group_data/r3lit_shared/ragdynabench/textgrad/env/lib/python3.11/site-packages (from jinja2<4.0.0,>=3.1.2->litellm>=1.49.5->textgrad) (3.0.2)\n",
      "Requirement already satisfied: jsonschema-specifications>=2023.03.6 in /data/group_data/r3lit_shared/ragdynabench/textgrad/env/lib/python3.11/site-packages (from jsonschema<5.0.0,>=4.22.0->litellm>=1.49.5->textgrad) (2024.10.1)\n",
      "Requirement already satisfied: referencing>=0.28.4 in /data/group_data/r3lit_shared/ragdynabench/textgrad/env/lib/python3.11/site-packages (from jsonschema<5.0.0,>=4.22.0->litellm>=1.49.5->textgrad) (0.35.1)\n",
      "Requirement already satisfied: rpds-py>=0.7.1 in /data/group_data/r3lit_shared/ragdynabench/textgrad/env/lib/python3.11/site-packages (from jsonschema<5.0.0,>=4.22.0->litellm>=1.49.5->textgrad) (0.22.3)\n",
      "Requirement already satisfied: annotated-types>=0.6.0 in /data/group_data/r3lit_shared/ragdynabench/textgrad/env/lib/python3.11/site-packages (from pydantic<3.0.0,>=2.0.0->litellm>=1.49.5->textgrad) (0.7.0)\n",
      "Requirement already satisfied: pydantic-core==2.27.2 in /data/group_data/r3lit_shared/ragdynabench/textgrad/env/lib/python3.11/site-packages (from pydantic<3.0.0,>=2.0.0->litellm>=1.49.5->textgrad) (2.27.2)\n",
      "Requirement already satisfied: six>=1.5 in /data/group_data/r3lit_shared/ragdynabench/textgrad/env/lib/python3.11/site-packages (from python-dateutil>=2.8.2->pandas>=1.5.3->textgrad) (1.17.0)\n",
      "Requirement already satisfied: charset-normalizer<4,>=2 in /data/group_data/r3lit_shared/ragdynabench/textgrad/env/lib/python3.11/site-packages (from requests>=2.32.2->datasets>=2.14.6->textgrad) (3.4.1)\n",
      "Requirement already satisfied: urllib3<3,>=1.21.1 in /data/group_data/r3lit_shared/ragdynabench/textgrad/env/lib/python3.11/site-packages (from requests>=2.32.2->datasets>=2.14.6->textgrad) (2.3.0)\n",
      "Requirement already satisfied: regex>=2022.1.18 in /data/group_data/r3lit_shared/ragdynabench/textgrad/env/lib/python3.11/site-packages (from tiktoken>=0.7.0->litellm>=1.49.5->textgrad) (2024.11.6)\n",
      "Requirement already satisfied: soupsieve>1.2 in /data/group_data/r3lit_shared/ragdynabench/textgrad/env/lib/python3.11/site-packages (from beautifulsoup4->gdown>=5.2.0->textgrad) (2.6)\n",
      "Requirement already satisfied: PySocks!=1.5.7,>=1.5.6 in /data/group_data/r3lit_shared/ragdynabench/textgrad/env/lib/python3.11/site-packages (from requests[socks]->gdown>=5.2.0->textgrad) (1.7.1)\n"
     ]
    },
    {
     "name": "stderr",
     "output_type": "stream",
     "text": [
      "/data/group_data/r3lit_shared/ragdynabench/textgrad/env/lib/python3.11/site-packages/pydantic/_internal/_config.py:345: UserWarning: Valid config keys have changed in V2:\n",
      "* 'fields' has been removed\n",
      "  warnings.warn(message, UserWarning)\n"
     ]
    }
   ],
   "source": [
    "!pip install textgrad # you might need to restart the notebook after installing textgrad\n",
    "\n",
    "import textgrad as tg\n",
    "import random\n",
    "import time\n",
    "import os\n",
    "\n",
   ]
  },
  {
   "cell_type": "markdown",
   "id": "0bc1891d-cbc0-4e46-a618-2925fe5f122c",
   "metadata": {},
   "source": [
    "### Utilities to run the code, and test cases"
   ]
  },
  {
   "cell_type": "code",
   "execution_count": 2,
   "id": "398def87-4b7e-4a44-a670-c8ef00119707",
   "metadata": {},
   "outputs": [],
   "source": [
    "# We'll use below utilities to run a python function.\n",
    "from IPython.core.interactiveshell import InteractiveShell\n",
    "\n",
    "def run_function_in_interpreter(func_code):\n",
    "    # raise Exception(\"This function will run the code returned by GPT-4o. Remove this if you'd like to run the code!\")\n",
    "    interpreter = InteractiveShell.instance()\n",
    "    \n",
    "    interpreter.run_cell(func_code, store_history=False, silent=True)\n",
    "    \n",
    "    func_name = func_code.split(\"def \")[1].split(\"(\")[0].strip()\n",
    "    func = interpreter.user_ns[func_name]\n",
    "    \n",
    "    return func\n",
    "\n",
    "\n",
    "def test_longest_increasing_subsequence(fn):\n",
    "    nums = [10, 22, 9, 33, 21, 50, 41, 60]\n",
    "    assert fn(nums) == 5\n",
    "\n",
    "    nums = [7, 2, 1, 3, 8, 4, 9, 6, 5]\n",
    "    assert fn(nums) == 4\n",
    "\n",
    "    nums = [5, 4, 3, 2, 1]\n",
    "    assert fn(nums) == 1\n",
    "\n",
    "    nums = [1, 2, 3, 4, 5]\n",
    "    assert fn(nums) == 5\n",
    "\n",
    "    nums = [3, 1, 4, 1, 5, 9, 2, 6, 5, 3, 5]\n",
    "    assert fn(nums) == 4\n",
    "\n",
    "    nums = [10, 9, 2, 5, 3, 7, 101, 18]\n",
    "    assert fn(nums) == 4\n",
    "\n",
    "    nums = [0, 8, 4, 12, 2, 10, 6, 14, 1, 9, 5, 13, 3, 11, 7, 15]\n",
    "    assert fn(nums) == 6\n",
    "\n",
    "    nums = [7, 7, 7, 7, 7, 7, 7]\n",
    "    assert fn(nums) == 1\n",
    "\n",
    "    nums = [20, 25, 47, 35, 56, 68, 98, 101, 212, 301, 415, 500]\n",
    "    assert fn(nums) == 11\n",
    "\n",
    "    nums = [9, 8, 7, 6, 5, 4, 3, 2, 1, 0]\n",
    "    assert fn(nums) == 1\n",
    "\n",
    "    print(\"All test cases passed!\")"
   ]
  },
  {
   "cell_type": "markdown",
   "id": "5c6c90b1-24b8-4f78-8cd3-5c01c02dbf99",
   "metadata": {},
   "source": [
    "## Problem: Improving a code snippet.\n",
    "We have a simple problem, and an initial solution that does not run quite fast. We first test this solution and look at the wall clock time."
   ]
  },
  {
   "cell_type": "code",
   "execution_count": 3,
   "id": "88256034-6c88-4a81-ac41-7e6f14abc89e",
   "metadata": {},
   "outputs": [],
   "source": [
    "problem_text = \"\"\"Longest Increasing Subsequence (LIS)\n",
    "\n",
    "Problem Statement:\n",
    "Given a sequence of integers, find the length of the longest subsequence that is strictly increasing. A subsequence is a sequence that can be derived from another sequence by deleting some or no elements without changing the order of the remaining elements.\n",
    "\n",
    "Input:\n",
    "The input consists of a list of integers representing the sequence.\n",
    "\n",
    "Output:\n",
    "The output should be an integer representing the length of the longest increasing subsequence.\"\"\"\n",
    "\n",
    "initial_solution = \"\"\"\n",
    "def longest_increasing_subsequence(nums):\n",
    "    n = len(nums)\n",
    "    dp = [1] * n\n",
    "    \n",
    "    for i in range(1, n):\n",
    "        for j in range(i):\n",
    "            if nums[i] > nums[j]:\n",
    "                dp[i] = max(dp[i], dp[j] + 1)\n",
    "    \n",
    "    max_length = max(dp)\n",
    "    lis = []\n",
    "    \n",
    "    for i in range(n - 1, -1, -1):\n",
    "        if dp[i] == max_length:\n",
    "            lis.append(nums[i])\n",
    "            max_length -= 1\n",
    "    \n",
    "    return len(lis[::-1])\n",
    "\"\"\"\n",
    "\n",
    "# Generate a random test case\n",
    "def generate_random_test_case(size, min_value, max_value):\n",
    "    return [random.randint(min_value, max_value) for _ in range(size)]\n",
    "\n",
    "# Test the function with a random test case\n",
    "size = 10000  # Adjust the size as needed\n",
    "min_value = 1\n",
    "max_value = 1000\n",
    "\n",
    "nums = generate_random_test_case(size, min_value, max_value)\n"
   ]
  },
  {
   "cell_type": "code",
   "execution_count": null,
   "id": "f4c4486f-53e5-47de-989f-da3eb6bb3447",
   "metadata": {},
   "outputs": [],
   "source": []
  },
  {
   "cell_type": "code",
   "execution_count": 4,
   "id": "331469ff-6106-4f7b-a761-f9d3cf91f2b1",
   "metadata": {},
   "outputs": [
    {
     "name": "stdout",
     "output_type": "stream",
     "text": [
      "Test Case Size: 10000\n",
      "Longest Increasing Subsequence Length: 183\n",
      "Runtime: 5.88568 seconds\n",
      "All test cases passed!\n"
     ]
    }
   ],
   "source": [
    "longest_increasing_subsequence = run_function_in_interpreter(initial_solution)\n",
    "\n",
    "start_time = time.time()\n",
    "lis = longest_increasing_subsequence(nums)\n",
    "end_time = time.time()\n",
    "\n",
    "print(f\"Test Case Size: {size}\")\n",
    "print(f\"Longest Increasing Subsequence Length: {lis}\")\n",
    "print(f\"Runtime: {end_time - start_time:.5f} seconds\")\n",
    "\n",
    "# Test for all test cases\n",
    "test_longest_increasing_subsequence(longest_increasing_subsequence)"
   ]
  },
  {
   "cell_type": "code",
   "execution_count": 27,
   "id": "256b8025-fdb6-48d1-8d30-77811a4b77fa",
   "metadata": {},
   "outputs": [],
   "source": [
    "def evaluate_solution(code_str):\n",
    "    # Run the test cases to verify correctness\n",
    "    func = run_function_in_interpreter(code_str)\n",
    "    \n",
    "    # Test correctness\n",
    "    try:\n",
    "        test_longest_increasing_subsequence(func)\n",
    "        correctness = True\n",
    "    except AssertionError:\n",
    "        correctness = False\n",
    "        \n",
    "    # Measure runtime on large input\n",
    "    size = 10000\n",
    "    test_case = generate_random_test_case(size, 1, 1000)\n",
    "    \n",
    "    start_time = time.time()\n",
    "    _ = func(test_case)\n",
    "    runtime = time.time() - start_time\n",
    "    \n",
    "    return correctness, runtime"
   ]
  },
  {
   "cell_type": "markdown",
   "id": "db85e3b2-fed6-4ca2-a7a4-13183a0a9273",
   "metadata": {},
   "source": [
    "## TextGrad to optimize code!\n",
    "Here, we will optimize the code instance. We first define the variables and instantiate the optimizer, then define our loss function, and finally update the code!"
   ]
  },
  {
   "cell_type": "code",
   "execution_count": 28,
   "id": "4ded5b66-3250-4a85-b045-625084a5c214",
   "metadata": {},
   "outputs": [],
   "source": [
    "llm_engine = tg.get_engine(\"experimental:bedrock/us.anthropic.claude-3-5-sonnet-20241022-v2:0\")\n",
    "\n",
    "tg.set_backward_engine(llm_engine, override=True)\n",
    "# tg.set_backward_engine(llm_engine)\n",
    "\n",
    "# Code is the variable of interest we want to optimize -- so requires_grad=True\n",
    "code = tg.Variable(value=initial_solution,\n",
    "                   requires_grad=True,\n",
    "                   role_description=\"code instance to optimize\")\n",
    "\n",
    "# We are not interested in optimizing the problem -- so requires_grad=False\n",
    "problem = tg.Variable(problem_text, \n",
    "                      requires_grad=False, \n",
    "                      role_description=\"the coding problem\")\n",
    "\n",
    "# Let TGD know to update code!\n",
    "optimizer = tg.TGD(parameters=[code])"
   ]
  },
  {
   "cell_type": "markdown",
   "id": "207fe9d3-3103-4abe-b0b7-482b99311ff1",
   "metadata": {},
   "source": [
    "## Defining a loss function with the FormattedLLMCall operation\n",
    "\n",
    "Here, we define a structured loss function. In particular, we want the following format:\n",
    "\n",
    "```\n",
    "{instruction}\n",
    "Problem: {problem}\n",
    "Current Code: {code}\n",
    "```\n",
    "\n",
    "`FormattedLLMCall` helps us define loss functions like this, while keeping track of the children variables."
   ]
  },
  {
   "cell_type": "code",
   "execution_count": 31,
   "id": "40b86157-ed34-4a32-9461-dde35755ef72",
   "metadata": {},
   "outputs": [],
   "source": [
    "# The system prompt that will guide the behavior of the loss function.\n",
    "loss_system_prompt = \"You are a smart language model that evaluates code snippets. You do not solve problems or propose new code snippets, only evaluate existing solutions critically and give very concise feedback.\"\n",
    "loss_system_prompt = tg.Variable(loss_system_prompt, requires_grad=False, role_description=\"system prompt to the loss function\")\n",
    "\n",
    "# The instruction that will be the prefix\n",
    "instruction = \"\"\"Think about the problem and the code snippet. Does the code solve the problem? What is the runtime complexity?\"\"\"\n",
    "\n",
    "# The format string and setting up the call\n",
    "format_string = \"{instruction}\\nProblem: {{problem}}\\nCurrent Code: {{code}}\"\n",
    "format_string = format_string.format(instruction=instruction)\n",
    "\n",
    "# fields = {\"problem\": None, \"code\": None}\n",
    "# formatted_llm_call = tg.autograd.FormattedLLMCall(engine=llm_engine,\n",
    "#                                                   format_string=format_string,\n",
    "#                                                   fields=fields,\n",
    "#                                                   system_prompt=loss_system_prompt)\n",
    "\n",
    "# Finally, the loss function\n",
    "# def loss_fn(problem: tg.Variable, code: tg.Variable) -> tg.Variable:\n",
    "#     inputs = {\"problem\": problem, \"code\": code}\n",
    "    \n",
    "#     return formatted_llm_call(inputs=inputs,\n",
    "#                               response_role_description=f\"evaluation of the {code.get_role_description()}\")\n",
    "\n",
    "\n",
    "# Create the formatted call once, outside the loss function\n",
    "instruction_template = \"\"\"Think about the problem and the code snippet. \n",
    "Consider both correctness and runtime performance.\n",
    "The code took {runtime:.4f} seconds to process a test case of size 10000.\n",
    "Does the code solve the problem correctly? What is the runtime complexity?\n",
    "How could the implementation be optimized further?\"\"\"\n",
    "\n",
    "format_string = f\"{instruction_template}\\nProblem: {{problem}}\\nCurrent Code: {{code}}\"\n",
    "fields = {\"problem\": None, \"code\": None}\n",
    "\n",
    "formatted_llm_call = tg.autograd.FormattedLLMCall(\n",
    "    engine=llm_engine,\n",
    "    format_string=format_string,\n",
    "    fields=fields,\n",
    "    system_prompt=loss_system_prompt\n",
    ")\n",
    "\n",
    "# Then in the loss function, just reuse the existing call\n",
    "def loss_fn(problem: tg.Variable, code: tg.Variable) -> tg.Variable:\n",
    "    # Evaluate runtime performance\n",
    "    correctness, runtime = evaluate_solution(code.value)\n",
    "    \n",
    "    # Format the instruction with the current runtime\n",
    "    current_instruction = instruction_template.format(runtime=runtime)\n",
    "    formatted_llm_call.format_string = f\"{current_instruction}\\nProblem: {{problem}}\\nCurrent Code: {{code}}\"\n",
    "    \n",
    "    inputs = {\"problem\": problem, \"code\": code}\n",
    "    return formatted_llm_call(\n",
    "        inputs=inputs,\n",
    "        response_role_description=f\"evaluation of the {code.get_role_description()}\"\n",
    "    )"
   ]
  },
  {
   "cell_type": "code",
   "execution_count": 32,
   "id": "624c9847-633b-4e9c-9722-e433e25593b7",
   "metadata": {},
   "outputs": [
    {
     "name": "stdout",
     "output_type": "stream",
     "text": [
      "All test cases passed!\n",
      "Let me evaluate the code:\n",
      "\n",
      "Correctness: ✓ Yes, the code correctly solves the Longest Increasing Subsequence problem using dynamic programming.\n",
      "\n",
      "Runtime Complexity: O(n²), where n is the length of the input sequence. This comes from:\n",
      "- Two nested loops for DP computation\n",
      "- Linear scan to reconstruct the sequence\n",
      "\n",
      "Performance Issues:\n",
      "1. The quadratic complexity is the main bottleneck causing the 5.7s runtime for n=10000\n",
      "2. Unnecessary sequence reconstruction since only the length is needed\n",
      "3. The max(dp) operation could be tracked during DP computation\n",
      "\n",
      "Optimization Opportunities:\n",
      "1. Use the binary search approach which runs in O(n log n)\n",
      "2. Remove sequence reconstruction if only length is needed\n",
      "3. Track maximum while building DP table\n",
      "\n",
      "The optimal solution would use patience sorting with binary search to achieve O(n log n) complexity.\n"
     ]
    }
   ],
   "source": [
    "# Let's do the forward pass for the loss function.\n",
    "loss = loss_fn(problem, code)\n",
    "print(loss.value)"
   ]
  },
  {
   "cell_type": "code",
   "execution_count": 33,
   "id": "4afc96ed-d37d-4301-a942-b6c92d9b1aac",
   "metadata": {},
   "outputs": [
    {
     "data": {
      "image/svg+xml": [
       "<?xml version=\"1.0\" encoding=\"UTF-8\" standalone=\"no\"?>\n",
       "<!DOCTYPE svg PUBLIC \"-//W3C//DTD SVG 1.1//EN\"\n",
       " \"http://www.w3.org/Graphics/SVG/1.1/DTD/svg11.dtd\">\n",
       "<!-- Generated by graphviz version 2.44.0 (0)\n",
       " -->\n",
       "<!-- Pages: 1 -->\n",
       "<svg width=\"570pt\" height=\"370pt\"\n",
       " viewBox=\"0.00 0.00 570.00 370.00\" xmlns=\"http://www.w3.org/2000/svg\" xmlns:xlink=\"http://www.w3.org/1999/xlink\">\n",
       "<g id=\"graph0\" class=\"graph\" transform=\"scale(1 1) rotate(0) translate(4 366)\">\n",
       "<polygon fill=\"lightgrey\" stroke=\"transparent\" points=\"-4,4 -4,-366 566,-366 566,4 -4,4\"/>\n",
       "<!-- 140150356913680 -->\n",
       "<g id=\"node1\" class=\"node\">\n",
       "<title>140150356913680</title>\n",
       "<polygon fill=\"lavender\" stroke=\"black\" points=\"372.5,-222 179.5,-222 179.5,0 372.5,0 372.5,-222\"/>\n",
       "<text text-anchor=\"start\" x=\"203\" y=\"-209.6\" font-family=\"Arial\" font-weight=\"bold\" font-size=\"8.00\" fill=\"darkblue\">Role: </text>\n",
       "<text text-anchor=\"start\" x=\"227\" y=\"-209.6\" font-family=\"Arial\" font-size=\"8.00\"> Evaluation of the code instance to</text>\n",
       "<text text-anchor=\"start\" x=\"261\" y=\"-201.6\" font-family=\"Arial\" font-size=\"8.00\">optimize</text>\n",
       "<text text-anchor=\"start\" x=\"186.5\" y=\"-193.6\" font-family=\"Arial\" font-weight=\"bold\" font-size=\"8.00\" fill=\"darkblue\">Value: </text>\n",
       "<text text-anchor=\"start\" x=\"214.5\" y=\"-193.6\" font-family=\"Arial\" font-size=\"8.00\"> Let me evaluate the code: Correctness: ✓</text>\n",
       "<text text-anchor=\"start\" x=\"217\" y=\"-185.6\" font-family=\"Arial\" font-size=\"8.00\">Yes, the code correctly solves the</text>\n",
       "<text text-anchor=\"start\" x=\"201.5\" y=\"-177.6\" font-family=\"Arial\" font-size=\"8.00\">Longest Increasing Subsequence problem</text>\n",
       "<text text-anchor=\"start\" x=\"208.5\" y=\"-169.6\" font-family=\"Arial\" font-size=\"8.00\">using dynamic programming. Runtime</text>\n",
       "<text text-anchor=\"start\" x=\"205\" y=\"-161.6\" font-family=\"Arial\" font-size=\"8.00\">Complexity: O(n²), where n is the length</text>\n",
       "<text text-anchor=\"start\" x=\"205\" y=\"-153.6\" font-family=\"Arial\" font-size=\"8.00\">of the input sequence. This comes from:</text>\n",
       "<text text-anchor=\"start\" x=\"203.5\" y=\"-145.6\" font-family=\"Arial\" font-size=\"8.00\">&#45; Two nested loops for DP computation &#45;</text>\n",
       "<text text-anchor=\"start\" x=\"205\" y=\"-137.6\" font-family=\"Arial\" font-size=\"8.00\">Linear scan to reconstruct the sequence</text>\n",
       "<text text-anchor=\"start\" x=\"209\" y=\"-129.6\" font-family=\"Arial\" font-size=\"8.00\">Performance Issues: 1. The quadratic</text>\n",
       "<text text-anchor=\"start\" x=\"218\" y=\"-121.6\" font-family=\"Arial\" font-size=\"8.00\">complexity is the main bottleneck</text>\n",
       "<text text-anchor=\"start\" x=\"205\" y=\"-113.6\" font-family=\"Arial\" font-size=\"8.00\">causing the 5.7s runtime for n=10000 2.</text>\n",
       "<text text-anchor=\"start\" x=\"208\" y=\"-105.6\" font-family=\"Arial\" font-size=\"8.00\">Unnecessary sequence reconstruction</text>\n",
       "<text text-anchor=\"start\" x=\"209\" y=\"-97.6\" font-family=\"Arial\" font-size=\"8.00\">since only the length is needed 3. The</text>\n",
       "<text text-anchor=\"start\" x=\"212.5\" y=\"-89.6\" font-family=\"Arial\" font-size=\"8.00\">max(dp) operation could be tracked</text>\n",
       "<text text-anchor=\"start\" x=\"212\" y=\"-81.6\" font-family=\"Arial\" font-size=\"8.00\">during DP computation Optimization</text>\n",
       "<text text-anchor=\"start\" x=\"206.5\" y=\"-73.6\" font-family=\"Arial\" font-size=\"8.00\">Opportunities: 1. Use the binary search</text>\n",
       "<text text-anchor=\"start\" x=\"211\" y=\"-65.6\" font-family=\"Arial\" font-size=\"8.00\">approach which runs in O(n log n) 2.</text>\n",
       "<text text-anchor=\"start\" x=\"205\" y=\"-57.6\" font-family=\"Arial\" font-size=\"8.00\">Remove sequence reconstruction if only</text>\n",
       "<text text-anchor=\"start\" x=\"202.5\" y=\"-49.6\" font-family=\"Arial\" font-size=\"8.00\">length is needed 3. Track maximum while</text>\n",
       "<text text-anchor=\"start\" x=\"209.5\" y=\"-41.6\" font-family=\"Arial\" font-size=\"8.00\">building DP table The optimal solution</text>\n",
       "<text text-anchor=\"start\" x=\"208\" y=\"-33.6\" font-family=\"Arial\" font-size=\"8.00\">would use patience sorting with binary</text>\n",
       "<text text-anchor=\"start\" x=\"205\" y=\"-25.6\" font-family=\"Arial\" font-size=\"8.00\">search to achieve O(n log n) complexity.</text>\n",
       "<text text-anchor=\"start\" x=\"256\" y=\"-17.6\" font-family=\"Arial\" font-weight=\"bold\" font-size=\"8.00\" fill=\"darkblue\">Grad Fn: </text>\n",
       "<text text-anchor=\"start\" x=\"293\" y=\"-17.6\" font-family=\"Arial\" font-size=\"8.00\"> </text>\n",
       "<text text-anchor=\"start\" x=\"194.5\" y=\"-9.6\" font-family=\"Arial\" font-size=\"8.00\">textgrad.autograd.llm_ops.LLMCall.backward</text>\n",
       "</g>\n",
       "<!-- 140149785165776 -->\n",
       "<g id=\"node2\" class=\"node\">\n",
       "<title>140149785165776</title>\n",
       "<polygon fill=\"lavender\" stroke=\"black\" points=\"166,-346 0,-346 0,-252 166,-252 166,-346\"/>\n",
       "<text text-anchor=\"start\" x=\"24\" y=\"-333.6\" font-family=\"Arial\" font-weight=\"bold\" font-size=\"8.00\" fill=\"darkblue\">Role: </text>\n",
       "<text text-anchor=\"start\" x=\"48\" y=\"-333.6\" font-family=\"Arial\" font-size=\"8.00\"> Code instance to optimize</text>\n",
       "<text text-anchor=\"start\" x=\"62\" y=\"-325.6\" font-family=\"Arial\" font-weight=\"bold\" font-size=\"8.00\" fill=\"darkblue\">Value: </text>\n",
       "<text text-anchor=\"start\" x=\"90\" y=\"-325.6\" font-family=\"Arial\" font-size=\"8.00\"> def</text>\n",
       "<text text-anchor=\"start\" x=\"7\" y=\"-317.6\" font-family=\"Arial\" font-size=\"8.00\">longest_increasing_subsequence(nums): n</text>\n",
       "<text text-anchor=\"start\" x=\"28.5\" y=\"-309.6\" font-family=\"Arial\" font-size=\"8.00\">= len(nums) dp = [1] * n for i in</text>\n",
       "<text text-anchor=\"start\" x=\"30\" y=\"-301.6\" font-family=\"Arial\" font-size=\"8.00\">range(1, n): for j in range(i): if</text>\n",
       "<text text-anchor=\"start\" x=\"19.5\" y=\"-293.6\" font-family=\"Arial\" font-size=\"8.00\">nums[i] &gt; nums[j]: dp[i] = max(dp[i],</text>\n",
       "<text text-anchor=\"start\" x=\"14\" y=\"-285.6\" font-family=\"Arial\" font-size=\"8.00\">dp[j] + 1) max_length = max(dp) lis = []</text>\n",
       "<text text-anchor=\"start\" x=\"24\" y=\"-277.6\" font-family=\"Arial\" font-size=\"8.00\">for i in range(n &#45; 1, &#45;1, &#45;1): if dp[i]</text>\n",
       "<text text-anchor=\"start\" x=\"20\" y=\"-269.6\" font-family=\"Arial\" font-size=\"8.00\">== max_length: lis.append(nums[i])</text>\n",
       "<text text-anchor=\"start\" x=\"21\" y=\"-261.6\" font-family=\"Arial\" font-size=\"8.00\">max_length &#45;= 1 return len(lis[::&#45;1])</text>\n",
       "</g>\n",
       "<!-- 140149785165776&#45;&gt;140150356913680 -->\n",
       "<g id=\"edge1\" class=\"edge\">\n",
       "<title>140149785165776&#45;&gt;140150356913680</title>\n",
       "<path fill=\"none\" stroke=\"black\" d=\"M131.2,-251.54C143.75,-239.45 157.77,-225.94 172.01,-212.22\"/>\n",
       "<polygon fill=\"black\" stroke=\"black\" points=\"174.7,-214.49 179.47,-205.03 169.84,-209.45 174.7,-214.49\"/>\n",
       "</g>\n",
       "<!-- 140149761517008 -->\n",
       "<g id=\"node3\" class=\"node\">\n",
       "<title>140149761517008</title>\n",
       "<polygon fill=\"lavender\" stroke=\"black\" points=\"367.5,-362 184.5,-362 184.5,-236 367.5,-236 367.5,-362\"/>\n",
       "<text text-anchor=\"start\" x=\"227.5\" y=\"-349.6\" font-family=\"Arial\" font-weight=\"bold\" font-size=\"8.00\" fill=\"darkblue\">Role: </text>\n",
       "<text text-anchor=\"start\" x=\"251.5\" y=\"-349.6\" font-family=\"Arial\" font-size=\"8.00\"> The coding problem</text>\n",
       "<text text-anchor=\"start\" x=\"191.5\" y=\"-341.6\" font-family=\"Arial\" font-weight=\"bold\" font-size=\"8.00\" fill=\"darkblue\">Value: </text>\n",
       "<text text-anchor=\"start\" x=\"219.5\" y=\"-341.6\" font-family=\"Arial\" font-size=\"8.00\"> Longest Increasing Subsequence (LIS)</text>\n",
       "<text text-anchor=\"start\" x=\"203\" y=\"-333.6\" font-family=\"Arial\" font-size=\"8.00\">Problem Statement: Given a sequence of</text>\n",
       "<text text-anchor=\"start\" x=\"209\" y=\"-325.6\" font-family=\"Arial\" font-size=\"8.00\">integers, find the length of the longest</text>\n",
       "<text text-anchor=\"start\" x=\"208.5\" y=\"-317.6\" font-family=\"Arial\" font-size=\"8.00\">subsequence that is strictly increasing.</text>\n",
       "<text text-anchor=\"start\" x=\"202\" y=\"-309.6\" font-family=\"Arial\" font-size=\"8.00\">A subsequence is a sequence that can be</text>\n",
       "<text text-anchor=\"start\" x=\"215\" y=\"-301.6\" font-family=\"Arial\" font-size=\"8.00\">derived from another sequence by</text>\n",
       "<text text-anchor=\"start\" x=\"209.5\" y=\"-293.6\" font-family=\"Arial\" font-size=\"8.00\">deleting some or no elements without</text>\n",
       "<text text-anchor=\"start\" x=\"212.5\" y=\"-285.6\" font-family=\"Arial\" font-size=\"8.00\">changing the order of the remaining</text>\n",
       "<text text-anchor=\"start\" x=\"206.5\" y=\"-277.6\" font-family=\"Arial\" font-size=\"8.00\">elements. Input: The input consists of a</text>\n",
       "<text text-anchor=\"start\" x=\"221.5\" y=\"-269.6\" font-family=\"Arial\" font-size=\"8.00\">list of integers representing the</text>\n",
       "<text text-anchor=\"start\" x=\"204.5\" y=\"-261.6\" font-family=\"Arial\" font-size=\"8.00\">sequence. Output: The output should be</text>\n",
       "<text text-anchor=\"start\" x=\"211.5\" y=\"-253.6\" font-family=\"Arial\" font-size=\"8.00\">an integer representing the length of</text>\n",
       "<text text-anchor=\"start\" x=\"211.5\" y=\"-245.6\" font-family=\"Arial\" font-size=\"8.00\">the longest increasing subsequence.</text>\n",
       "</g>\n",
       "<!-- 140149761517008&#45;&gt;140150356913680 -->\n",
       "<g id=\"edge2\" class=\"edge\">\n",
       "<title>140149761517008&#45;&gt;140150356913680</title>\n",
       "<path fill=\"none\" stroke=\"black\" d=\"M276,-235.81C276,-234.7 276,-233.58 276,-232.46\"/>\n",
       "<polygon fill=\"black\" stroke=\"black\" points=\"279.5,-232.23 276,-222.23 272.5,-232.23 279.5,-232.23\"/>\n",
       "</g>\n",
       "<!-- 140149761923792 -->\n",
       "<g id=\"node4\" class=\"node\">\n",
       "<title>140149761923792</title>\n",
       "<polygon fill=\"lavender\" stroke=\"black\" points=\"562,-334 386,-334 386,-264 562,-264 562,-334\"/>\n",
       "<text text-anchor=\"start\" x=\"400\" y=\"-321.6\" font-family=\"Arial\" font-weight=\"bold\" font-size=\"8.00\" fill=\"darkblue\">Role: </text>\n",
       "<text text-anchor=\"start\" x=\"424\" y=\"-321.6\" font-family=\"Arial\" font-size=\"8.00\"> System prompt to the loss function</text>\n",
       "<text text-anchor=\"start\" x=\"393\" y=\"-313.6\" font-family=\"Arial\" font-weight=\"bold\" font-size=\"8.00\" fill=\"darkblue\">Value: </text>\n",
       "<text text-anchor=\"start\" x=\"421\" y=\"-313.6\" font-family=\"Arial\" font-size=\"8.00\"> You are a smart language model that</text>\n",
       "<text text-anchor=\"start\" x=\"410\" y=\"-305.6\" font-family=\"Arial\" font-size=\"8.00\">evaluates code snippets. You do not</text>\n",
       "<text text-anchor=\"start\" x=\"409\" y=\"-297.6\" font-family=\"Arial\" font-size=\"8.00\">solve problems or propose new code</text>\n",
       "<text text-anchor=\"start\" x=\"419.5\" y=\"-289.6\" font-family=\"Arial\" font-size=\"8.00\">snippets, only evaluate existing</text>\n",
       "<text text-anchor=\"start\" x=\"419\" y=\"-281.6\" font-family=\"Arial\" font-size=\"8.00\">solutions critically and give very</text>\n",
       "<text text-anchor=\"start\" x=\"442\" y=\"-273.6\" font-family=\"Arial\" font-size=\"8.00\">concise feedback.</text>\n",
       "</g>\n",
       "<!-- 140149761923792&#45;&gt;140150356913680 -->\n",
       "<g id=\"edge3\" class=\"edge\">\n",
       "<title>140149761923792&#45;&gt;140150356913680</title>\n",
       "<path fill=\"none\" stroke=\"black\" d=\"M437.68,-263.88C421.21,-248.41 400.79,-229.23 380.08,-209.77\"/>\n",
       "<polygon fill=\"black\" stroke=\"black\" points=\"382.43,-207.18 372.75,-202.88 377.64,-212.28 382.43,-207.18\"/>\n",
       "</g>\n",
       "</g>\n",
       "</svg>\n"
      ],
      "text/plain": [
       "<graphviz.graphs.Digraph at 0x7f7728c4bd90>"
      ]
     },
     "execution_count": 33,
     "metadata": {},
     "output_type": "execute_result"
    }
   ],
   "source": [
    "# Let's visualize our computation graph.\n",
    "loss.generate_graph()"
   ]
  },
  {
   "cell_type": "code",
   "execution_count": 34,
   "id": "d63b1bbd-c638-4e16-8ffe-a4a5ad45b3b8",
   "metadata": {},
   "outputs": [
    {
     "name": "stdout",
     "output_type": "stream",
     "text": [
      "{Variable(value=Based on the evaluation, I'll provide specific feedback for improving the code's performance:\n",
      "\n",
      "1. The most significant issue is the O(n²) complexity from the nested loops. Since we're seeing a runtime of 5.7s for n=10000, this is the primary bottleneck. The code should be restructured to use binary search, which would reduce complexity to O(n log n). This approach would involve maintaining a sorted array of potential sequence endings.\n",
      "\n",
      "2. The code is performing unnecessary work by reconstructing the actual subsequence (lines involving lis.append()) when only the length is required. Since the objective function only cares about the length, removing the reconstruction logic would improve performance.\n",
      "\n",
      "3. Instead of using max(dp) at the end, which requires an additional O(n) scan, the maximum length could be tracked during the DP computation itself with a simple variable. This would save an entire pass through the array.\n",
      "\n",
      "4. The memory usage could be optimized. Currently, the dp array stores all intermediate results, but for finding just the length, we could potentially use less space.\n",
      "\n",
      "5. The [::-1] slice operation at the end is redundant since we're only returning a length. This creates an unnecessary temporary reversed list.\n",
      "\n",
      "6. The first loop starting at index 1 could potentially be optimized by checking if the input array is already sorted or empty, which would allow early returns in these edge cases.\n",
      "\n",
      "These changes, particularly moving to a binary search approach, would significantly improve the runtime from 5.7 seconds to approximately O(n log n), which for n=10000 would be roughly 40,000 operations instead of the current 100,000,000 operations., role=feedback to code instance to optimize, grads=set())}\n"
     ]
    }
   ],
   "source": [
    "# Let's look at the gradients!\n",
    "loss.backward()\n",
    "print(code.gradients)"
   ]
  },
  {
   "cell_type": "code",
   "execution_count": 35,
   "id": "caad85e4-b449-495b-a845-3b372e00dfd6",
   "metadata": {},
   "outputs": [],
   "source": [
    "# Let's update the code\n",
    "optimizer.step()"
   ]
  },
  {
   "cell_type": "code",
   "execution_count": 36,
   "id": "77602cbf-7cd6-4f59-b69e-f7fe7d351731",
   "metadata": {},
   "outputs": [
    {
     "name": "stdout",
     "output_type": "stream",
     "text": [
      "Longest Increasing Subsequence Length: 183\n",
      "Runtime: 0.00744 seconds\n",
      "All test cases passed!\n"
     ]
    }
   ],
   "source": [
    "# Hopefully, we should get much better runtime!\n",
    "longest_increasing_subsequence = run_function_in_interpreter(code.value)\n",
    "\n",
    "start_time = time.time()\n",
    "lis = longest_increasing_subsequence(nums)\n",
    "end_time = time.time()\n",
    "\n",
    "print(f\"Longest Increasing Subsequence Length: {lis}\")\n",
    "print(f\"Runtime: {end_time - start_time:.5f} seconds\")\n",
    "\n",
    "test_longest_increasing_subsequence(longest_increasing_subsequence)"
   ]
  },
  {
   "cell_type": "code",
   "execution_count": 37,
   "id": "ae584c91-5dc3-4b37-9b88-4a34f7b6f62a",
   "metadata": {},
   "outputs": [
    {
     "name": "stdout",
     "output_type": "stream",
     "text": [
      "All test cases passed!\n"
     ]
    }
   ],
   "source": [
    "# Let's do one more iteration\n",
    "optimizer.zero_grad()\n",
    "loss = loss_fn(problem, code)\n",
    "loss.backward()\n",
    "optimizer.step()"
   ]
  },
  {
   "cell_type": "code",
   "execution_count": 38,
   "id": "aeb54d4e-0d9f-4768-9b8b-06ea97657751",
   "metadata": {},
   "outputs": [
    {
     "name": "stdout",
     "output_type": "stream",
     "text": [
      "Longest Increasing Subsequence Length: 183\n",
      "Runtime: 0.00208 seconds\n",
      "All test cases passed!\n"
     ]
    }
   ],
   "source": [
    "longest_increasing_subsequence = run_function_in_interpreter(code.value)\n",
    "\n",
    "start_time = time.time()\n",
    "lis = longest_increasing_subsequence(nums)\n",
    "end_time = time.time()\n",
    "\n",
    "print(f\"Longest Increasing Subsequence Length: {lis}\")\n",
    "print(f\"Runtime: {end_time - start_time:.5f} seconds\")\n",
    "\n",
    "test_longest_increasing_subsequence(longest_increasing_subsequence)"
   ]
  },
  {
   "cell_type": "markdown",
   "id": "54efbf37-4c7a-486c-8112-966e6b34e23c",
   "metadata": {},
   "source": [
    "## Optimized code, much faster!"
   ]
  },
  {
   "cell_type": "code",
   "execution_count": 39,
   "id": "f6115288-cb26-4008-9882-a5af60e49c3f",
   "metadata": {},
   "outputs": [
    {
     "name": "stdout",
     "output_type": "stream",
     "text": [
      "from bisect import bisect_left\n",
      "\n",
      "def longest_increasing_subsequence(nums):\n",
      "    if not nums:\n",
      "        return 0\n",
      "    if len(nums) == 1:\n",
      "        return 1\n",
      "        \n",
      "    # Array storing minimum ending values for subsequences of each length\n",
      "    subsequence_ends = []\n",
      "    \n",
      "    # Process each number to build subsequences\n",
      "    for num in nums:\n",
      "        # Find the position where num should be inserted\n",
      "        insert_pos = bisect_left(subsequence_ends, num)\n",
      "        \n",
      "        # If num should be appended, extend the array\n",
      "        if insert_pos == len(subsequence_ends):\n",
      "            subsequence_ends.append(num)\n",
      "        else:\n",
      "            # Replace the existing value with the smaller one\n",
      "            subsequence_ends[insert_pos] = num\n",
      "            \n",
      "    return len(subsequence_ends)\n"
     ]
    }
   ],
   "source": [
    "print(code.value)"
   ]
  },
  {
   "cell_type": "code",
   "execution_count": 42,
   "id": "202c93c1-e7b6-4b89-9851-8d5ee07527d9",
   "metadata": {},
   "outputs": [
    {
     "data": {
      "text/plain": [
       "{Variable(value=Based on the language model's evaluation, there are a few areas where we can provide constructive feedback to improve the code's performance, even though it's already quite efficient:\n",
       " \n",
       " 1. The initialization section has redundant code. Since we have `size = 0` followed immediately by `size = 1`, we can eliminate this redundancy. This would make the code more concise and slightly more efficient by avoiding an unnecessary assignment.\n",
       " \n",
       " 2. The binary search implementation could be replaced with Python's built-in `bisect_left` from the `bisect` module. The feedback suggests this could be more optimized since it's implemented in C and has been heavily optimized for Python's internals. This would also make the code more maintainable and potentially faster.\n",
       " \n",
       " 3. The `tails` array initialization could be optimized. Currently, we're using `[0] * len(nums)` which creates a full-length array even though we might not use all of it. For very large input sequences where the LIS is relatively short, this could waste memory. We could consider using a dynamic data structure that grows as needed.\n",
       " \n",
       " 4. The variable naming could be more descriptive. 'tails' is a somewhat cryptic name that doesn't immediately convey its purpose. A more descriptive name like 'subsequence_ends' or 'min_endings' would make the code more maintainable and easier to understand.\n",
       " \n",
       " 5. The `size` variable serves two purposes: tracking both the current size and acting as a bound for binary search. This dual responsibility could be separated for better code clarity and maintainability.\n",
       " \n",
       " However, it's important to note that these are relatively minor optimizations since the evaluation shows the code is already performing well with a good time complexity of O(n log n) and handles the test cases efficiently (0.0074 seconds for n=10000). The core algorithm implementation is sound and doesn't need major structural changes., role=feedback to code instance to optimize, grads=set())}"
      ]
     },
     "execution_count": 42,
     "metadata": {},
     "output_type": "execute_result"
    }
   ],
   "source": [
    "code.gradients"
   ]
  },
  {
   "cell_type": "code",
   "execution_count": null,
   "id": "250eeb9c-1ae9-4696-ba2f-0980a7819ec4",
   "metadata": {},
   "outputs": [],
   "source": []
  }
 ],
 "metadata": {
  "kernelspec": {
   "display_name": "Python 3 (ipykernel)",
   "language": "python",
   "name": "python3"
  },
  "language_info": {
   "codemirror_mode": {
    "name": "ipython",
    "version": 3
   },
   "file_extension": ".py",
   "mimetype": "text/x-python",
   "name": "python",
   "nbconvert_exporter": "python",
   "pygments_lexer": "ipython3",
   "version": "3.11.11"
  }
 },
 "nbformat": 4,
 "nbformat_minor": 5
}
